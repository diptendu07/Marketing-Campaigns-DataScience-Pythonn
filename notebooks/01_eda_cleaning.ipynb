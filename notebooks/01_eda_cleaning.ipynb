{
 "cells": [
  {
   "cell_type": "code",
   "execution_count": 6,
   "id": "1fa05d82",
   "metadata": {},
   "outputs": [
    {
     "name": "stderr",
     "output_type": "stream",
     "text": [
      "C:\\Users\\LENOVO\\AppData\\Local\\Temp\\ipykernel_3540\\3194166432.py:14: UserWarning: Could not infer format, so each element will be parsed individually, falling back to `dateutil`. To ensure parsing is consistent and as-expected, please specify a format.\n",
      "  df['Dt_Customer'] = pd.to_datetime(df['Dt_Customer'], errors='coerce')  # Optional: add format='%d-%m-%Y'\n"
     ]
    },
    {
     "name": "stdout",
     "output_type": "stream",
     "text": [
      "Unique Education values: ['Graduation' 'PhD' '2n Cycle' 'Master' 'Basic']\n",
      "Unique Marital Status values: ['Divorced' 'Single' 'Married' 'Together' 'Widow' 'YOLO' 'Alone' 'Absurd']\n",
      "0\n",
      "✅ Cleaned data saved with valid Income values\n"
     ]
    }
   ],
   "source": [
    "import pandas as pd\n",
    "\n",
    "# Load data\n",
    "df = pd.read_csv('../data/marketing_data.csv')\n",
    "\n",
    "# Strip whitespace from column names\n",
    "df.columns = df.columns.str.strip()\n",
    "\n",
    "# --- Income Cleaning ---\n",
    "df['Income'] = df['Income'].astype(str).str.replace(r\"[^\\d.]\", \"\", regex=True).str.strip()\n",
    "df['Income'] = pd.to_numeric(df['Income'], errors='coerce')\n",
    "\n",
    "# --- Date Cleaning ---\n",
    "df['Dt_Customer'] = pd.to_datetime(df['Dt_Customer'], errors='coerce')  # Optional: add format='%d-%m-%Y'\n",
    "\n",
    "# --- Category Review ---\n",
    "print(\"Unique Education values:\", df['Education'].unique())\n",
    "print(\"Unique Marital Status values:\", df['Marital_Status'].unique())\n",
    "\n",
    "# --- Fill Missing Income ---\n",
    "df['Income'] = df.groupby(['Education', 'Marital_Status'])['Income']\\\n",
    "                 .transform(lambda x: x.fillna(x.mean()))\n",
    "df['Income'] = df['Income'].fillna(df['Income'].median())\n",
    "\n",
    "# Final check\n",
    "print(df['Income'].isnull().sum())  # Should be 0\n",
    "\n",
    "# Save\n",
    "df.to_csv('../data/cleaned_data.csv', index=False)\n",
    "print(\"✅ Cleaned data saved with valid Income values\")\n"
   ]
  }
 ],
 "metadata": {
  "kernelspec": {
   "display_name": "venv",
   "language": "python",
   "name": "python3"
  },
  "language_info": {
   "codemirror_mode": {
    "name": "ipython",
    "version": 3
   },
   "file_extension": ".py",
   "mimetype": "text/x-python",
   "name": "python",
   "nbconvert_exporter": "python",
   "pygments_lexer": "ipython3",
   "version": "3.10.0"
  }
 },
 "nbformat": 4,
 "nbformat_minor": 5
}
