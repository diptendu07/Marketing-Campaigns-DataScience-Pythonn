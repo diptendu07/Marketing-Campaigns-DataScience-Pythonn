{
 "cells": [
  {
   "cell_type": "code",
   "execution_count": 1,
   "id": "12ea9129",
   "metadata": {},
   "outputs": [],
   "source": [
    "import pandas as pd\n",
    "from datetime import datetime\n",
    "\n",
    "df = pd.read_csv('../data/cleaned_data.csv')\n",
    "\n",
    "# Age\n",
    "df['Age'] = datetime.now().year - df['Year_Birth']\n",
    "\n",
    "# Total Children\n",
    "df['Total_Children'] = df['Kidhome'] + df['Teenhome']\n",
    "\n",
    "# Total Spending\n",
    "product_cols = ['MntWines', 'MntFruits', 'MntMeatProducts',\n",
    "                'MntFishProducts', 'MntSweetProducts', 'MntGoldProds']\n",
    "df['Total_Spending'] = df[product_cols].sum(axis=1)\n",
    "\n",
    "# Total Purchases\n",
    "df['Total_Purchases'] = df[['NumWebPurchases', 'NumCatalogPurchases', 'NumStorePurchases']].sum(axis=1)\n",
    "\n",
    "# ✅ One-hot encode Country column (so 'Country_United States' is available later)\n",
    "if 'Country' in df.columns:\n",
    "    df = pd.get_dummies(df, columns=['Country'], drop_first=False)\n",
    "\n",
    "# Save data\n",
    "df.to_csv('../data/engineered_data.csv', index=False)\n"
   ]
  }
 ],
 "metadata": {
  "kernelspec": {
   "display_name": "venv",
   "language": "python",
   "name": "python3"
  },
  "language_info": {
   "codemirror_mode": {
    "name": "ipython",
    "version": 3
   },
   "file_extension": ".py",
   "mimetype": "text/x-python",
   "name": "python",
   "nbconvert_exporter": "python",
   "pygments_lexer": "ipython3",
   "version": "3.10.0"
  }
 },
 "nbformat": 4,
 "nbformat_minor": 5
}
