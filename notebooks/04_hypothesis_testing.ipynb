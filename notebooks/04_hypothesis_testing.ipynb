{
 "cells": [
  {
   "cell_type": "code",
   "execution_count": 1,
   "id": "7c0729ea",
   "metadata": {},
   "outputs": [
    {
     "name": "stdout",
     "output_type": "stream",
     "text": [
      "1. Older vs Younger (Store Purchases): p-value = 0.0000\n",
      "2. With vs Without Kids (Web Purchases): p-value = 0.0009\n",
      "3. Correlation (Web vs Store Purchases): r = 0.5027\n",
      "4. US vs Rest (Total Spending): p-value = 0.7630\n"
     ]
    }
   ],
   "source": [
    "import pandas as pd\n",
    "from scipy.stats import ttest_ind\n",
    "\n",
    "# Load the engineered dataset\n",
    "df = pd.read_csv('../data/engineered_data.csv')\n",
    "\n",
    "# Create a report text\n",
    "report = []\n",
    "\n",
    "# a. Do older people prefer store purchases?\n",
    "older = df[df['Age'] > 50]['NumStorePurchases']\n",
    "younger = df[df['Age'] <= 50]['NumStorePurchases']\n",
    "t_stat1, p_val1 = ttest_ind(older, younger, nan_policy='omit')\n",
    "report.append(f\"1. Older vs Younger (Store Purchases): p-value = {p_val1:.4f}\")\n",
    "\n",
    "# b. Do people with kids prefer online purchases?\n",
    "with_kids = df[df['Total_Children'] > 0]['NumWebPurchases']\n",
    "without_kids = df[df['Total_Children'] == 0]['NumWebPurchases']\n",
    "t_stat2, p_val2 = ttest_ind(with_kids, without_kids, nan_policy='omit')\n",
    "report.append(f\"2. With vs Without Kids (Web Purchases): p-value = {p_val2:.4f}\")\n",
    "\n",
    "# c. Correlation between store and web purchases (possible cannibalization)\n",
    "correlation = df[['NumWebPurchases', 'NumStorePurchases']].corr().iloc[0, 1]\n",
    "report.append(f\"3. Correlation (Web vs Store Purchases): r = {correlation:.4f}\")\n",
    "\n",
    "# d. Spending difference between US and rest of the world\n",
    "if 'Country_US' in df.columns:\n",
    "    us = df[df['Country_US'] == 1]['Total_Spending']\n",
    "    non_us = df[df['Country_US'] == 0]['Total_Spending']\n",
    "    t_stat3, p_val3 = ttest_ind(us, non_us, nan_policy='omit')\n",
    "    report.append(f\"4. US vs Rest (Total Spending): p-value = {p_val3:.4f}\")\n",
    "else:\n",
    "    report.append(\"4. Country_US column not found.\")\n",
    "\n",
    "\n",
    "# Save summary statistics\n",
    "summary = df.describe()\n",
    "summary.to_csv('../output/reports/summary_statistics.csv')\n",
    "\n",
    "# Save the hypothesis test results\n",
    "with open('../output/reports/hypothesis_results.txt', 'w') as f:\n",
    "    f.write(\"HYPOTHESIS TEST RESULTS\\n\")\n",
    "    f.write(\"------------------------\\n\")\n",
    "    for line in report:\n",
    "        f.write(line + \"\\n\")\n",
    "\n",
    "# Print to console as well\n",
    "for line in report:\n",
    "    print(line)\n"
   ]
  }
 ],
 "metadata": {
  "kernelspec": {
   "display_name": "venv",
   "language": "python",
   "name": "python3"
  },
  "language_info": {
   "codemirror_mode": {
    "name": "ipython",
    "version": 3
   },
   "file_extension": ".py",
   "mimetype": "text/x-python",
   "name": "python",
   "nbconvert_exporter": "python",
   "pygments_lexer": "ipython3",
   "version": "3.10.0"
  }
 },
 "nbformat": 4,
 "nbformat_minor": 5
}
